{
 "cells": [
  {
   "cell_type": "code",
   "execution_count": null,
   "metadata": {},
   "outputs": [],
   "source": [
    "import os\n",
    "from urllib.request import urlopen\n",
    "import urllib.request\n",
    "\n",
    "\n",
    "# Downloading Data for a particular interval of time from a private Thingspeak channel \n",
    "\n",
    "channel = \"1234567\" # Enter your channel ID\n",
    "start_date = \"2021-09-08\" # Enter start date \n",
    "end_date = \"2021-09-08\"   # Enter end date\n",
    "start_time = \"2012:00:00\" # Enter start time\n",
    "end_time = \"2016:00:00\" # Enter end time\n",
    "file_name= channel+start_date +\".csv\" # Can customize your output file name \n",
    "# For Time Zone\n",
    "continent= Asia  \n",
    "city = Kolkata\n",
    "\n",
    "api_key = ABCDEFGHIJKLMANO # PUT YOUR PRVIATE CHANNEL READ API HERE\n",
    "URL = \"https://api.thingspeak.com/channels/\" + channel + \"/feeds.csv?api_key=\" +api_key +\"&start=\" +start_date +\"%20\" +start_time + \"&end=\" +end_date +\"%20\"+ end_time +\"&timezone=\"+continent+\"%2F\"+city\n",
    "\n",
    "urllib.request.urlretrieve(URL, file_name)"
   ]
  },
  {
   "cell_type": "code",
   "execution_count": null,
   "metadata": {},
   "outputs": [],
   "source": []
  },
  {
   "cell_type": "code",
   "execution_count": null,
   "metadata": {},
   "outputs": [],
   "source": []
  },
  {
   "cell_type": "code",
   "execution_count": null,
   "metadata": {},
   "outputs": [],
   "source": []
  },
  {
   "cell_type": "code",
   "execution_count": null,
   "metadata": {},
   "outputs": [],
   "source": []
  }
 ],
 "metadata": {
  "kernelspec": {
   "display_name": "Python 3",
   "language": "python",
   "name": "python3"
  },
  "language_info": {
   "codemirror_mode": {
    "name": "ipython",
    "version": 3
   },
   "file_extension": ".py",
   "mimetype": "text/x-python",
   "name": "python",
   "nbconvert_exporter": "python",
   "pygments_lexer": "ipython3",
   "version": "3.8.5"
  }
 },
 "nbformat": 4,
 "nbformat_minor": 4
}
